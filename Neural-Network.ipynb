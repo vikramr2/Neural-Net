{
 "cells": [
  {
   "cell_type": "markdown",
   "metadata": {},
   "source": [
    "# Neural Network Demo"
   ]
  },
  {
   "cell_type": "markdown",
   "metadata": {},
   "source": [
    "## Loading Data"
   ]
  },
  {
   "cell_type": "markdown",
   "metadata": {},
   "source": [
    "We'll demo this Vanilla Neural Network on MNIST Data. First things first, we want to load our MNIST Data"
   ]
  },
  {
   "cell_type": "code",
   "execution_count": 1,
   "metadata": {},
   "outputs": [
    {
     "name": "stdout",
     "output_type": "stream",
     "text": [
      "                            \n",
      "                            \n",
      "                            \n",
      "                            \n",
      "                            \n",
      "            ++++++++++++    \n",
      "        ++++++++++++++++    \n",
      "       ++++++++++++++++     \n",
      "       +++++++++++          \n",
      "        +++++++ ++          \n",
      "         +++++              \n",
      "           ++++             \n",
      "           ++++             \n",
      "            ++++++          \n",
      "             ++++++         \n",
      "              ++++++        \n",
      "               +++++        \n",
      "                 ++++       \n",
      "              +++++++       \n",
      "            ++++++++        \n",
      "          +++++++++         \n",
      "        ++++++++++          \n",
      "      ++++++++++            \n",
      "    ++++++++++              \n",
      "    ++++++++                \n",
      "                            \n",
      "                            \n",
      "                            \n"
     ]
    }
   ],
   "source": [
    "from DataLoader import *\n",
    "\n",
    "# load up data\n",
    "loader = DataLoader()\n",
    "loader.load_trainval()\n",
    "loader.load_test()\n",
    "\n",
    "# retrieve loaded data\n",
    "train = loader.get_train()\n",
    "val = loader.get_val()\n",
    "test = loader.get_test()\n",
    "\n",
    "# test by printing first training image\n",
    "row1 = train['data'][0]\n",
    "for row in range(28):\n",
    "    for col in range(28):\n",
    "        print(' ' if row1[28*row+col] == 0 else '+', end='')\n",
    "    print('')"
   ]
  },
  {
   "cell_type": "markdown",
   "metadata": {},
   "source": [
    "## Building the Neural Network\n",
    "\n",
    "Now that we have our data, we can build a simple vanila neural network."
   ]
  },
  {
   "cell_type": "code",
   "execution_count": 2,
   "metadata": {},
   "outputs": [
    {
     "name": "stdout",
     "output_type": "stream",
     "text": [
      "Initializing weights... Done\n"
     ]
    }
   ],
   "source": [
    "from Net import *\n",
    "\n",
    "num_inputs = 784\n",
    "num_outputs = 10\n",
    "\n",
    "net = Net([num_inputs, 500, 250, 50, num_outputs])"
   ]
  },
  {
   "cell_type": "markdown",
   "metadata": {},
   "source": [
    "## Training the Neural Network on SGD\n",
    "\n",
    "We'll start of by demoing and testing SGD. We'll build a train function, applying the SGD optimizer. For now, we'll just use a batch size of 1."
   ]
  },
  {
   "cell_type": "code",
   "execution_count": 3,
   "metadata": {},
   "outputs": [],
   "source": [
    "from Optimizers import *\n",
    "from math import floor\n",
    "\n",
    "loss = []\n",
    "\n",
    "def train_net(epochs, lr, decay, batch_size):\n",
    "    sgd = SGD(lr, decay)\n",
    "    \n",
    "    for epoch in range(epochs):\n",
    "        print('Epoch ' + str(epoch) + '...')\n",
    "        \n",
    "        m = len(train['data'])\n",
    "        \n",
    "        for b in range(0, m, batch_size):\n",
    "            begin = b\n",
    "            end = b + batch_size\n",
    "            \n",
    "            net(train['data'][begin:end])\n",
    "            grad, upstreams, dgammas, dbetas = net.backward(train['label'][begin:end])\n",
    "\n",
    "            for n in range(len(net.layers) - 2, -1, -1):\n",
    "                if isinstance(net.layers[n], Linear) or isinstance(net.layers[n], BatchNorm):\n",
    "                    net.layers[n].update(sgd)\n",
    "                \n",
    "        sgd.advance()\n",
    "        \n",
    "        net(train['data'])\n",
    "        avg_loss = net.xent(train['label'])\n",
    "        loss.append(avg_loss)\n",
    "            \n",
    "        print('Loss for Epoch ' + str(epoch) + ': ' + str(avg_loss))"
   ]
  },
  {
   "cell_type": "code",
   "execution_count": 18,
   "metadata": {},
   "outputs": [
    {
     "name": "stdout",
     "output_type": "stream",
     "text": [
      "Epoch 0...\n",
      "Loss for Epoch 0: 0.5636324265405493\n",
      "Epoch 1...\n",
      "Loss for Epoch 1: 0.5603356741653567\n",
      "Epoch 2...\n",
      "Loss for Epoch 2: 0.5571631187102458\n",
      "Epoch 3...\n",
      "Loss for Epoch 3: 0.5540721016495682\n",
      "Epoch 4...\n",
      "Loss for Epoch 4: 0.5510773696448031\n",
      "Epoch 5...\n",
      "Loss for Epoch 5: 0.5481788404847282\n",
      "Epoch 6...\n",
      "Loss for Epoch 6: 0.5453676490859524\n",
      "Epoch 7...\n",
      "Loss for Epoch 7: 0.5426483991657689\n",
      "Epoch 8...\n",
      "Loss for Epoch 8: 0.540021483574594\n",
      "Epoch 9...\n",
      "Loss for Epoch 9: 0.537461529562665\n"
     ]
    }
   ],
   "source": [
    "num_epoch = 10\n",
    "lr = 0.001\n",
    "decay = 1e-3\n",
    "batch_size = 1000\n",
    "\n",
    "train_net(num_epoch, lr, decay, batch_size)"
   ]
  },
  {
   "cell_type": "code",
   "execution_count": 19,
   "metadata": {},
   "outputs": [
    {
     "name": "stdout",
     "output_type": "stream",
     "text": [
      "Validation Accuracy: 0.84875\n"
     ]
    }
   ],
   "source": [
    "val_accuracy = 0\n",
    "        \n",
    "output = np.argmax(net(val['data']), axis=1)\n",
    "for entry in range(len(output)):\n",
    "    if output[entry] == val['label'][entry]:\n",
    "        val_accuracy += 1\n",
    "        \n",
    "val_accuracy /= len(val['data'])\n",
    "print('Validation Accuracy: ' + str(val_accuracy))"
   ]
  },
  {
   "cell_type": "code",
   "execution_count": 20,
   "metadata": {},
   "outputs": [
    {
     "name": "stdout",
     "output_type": "stream",
     "text": [
      "Test Accuracy: 0.8542\n"
     ]
    }
   ],
   "source": [
    "test_accuracy = 0\n",
    "\n",
    "output = np.argmax(net(test['data']), axis=1)\n",
    "for entry in range(len(output)):\n",
    "    if output[entry] == test['label'][entry]:\n",
    "        test_accuracy += 1\n",
    "        \n",
    "test_accuracy /= len(test['data'])\n",
    "print('Test Accuracy: ' + str(test_accuracy))"
   ]
  },
  {
   "cell_type": "code",
   "execution_count": 21,
   "metadata": {},
   "outputs": [
    {
     "name": "stdout",
     "output_type": "stream",
     "text": [
      "                            \n",
      "                            \n",
      "                            \n",
      "                            \n",
      "                            \n",
      "                            \n",
      "                            \n",
      "      ++++++                \n",
      "      ++++++++++++++++      \n",
      "      ++++++++++++++++      \n",
      "           +++++++++++      \n",
      "                  ++++      \n",
      "                 ++++       \n",
      "                 ++++       \n",
      "                ++++        \n",
      "                ++++        \n",
      "               ++++         \n",
      "               +++          \n",
      "              ++++          \n",
      "             ++++           \n",
      "            +++++           \n",
      "            ++++            \n",
      "           +++++            \n",
      "           ++++             \n",
      "          +++++             \n",
      "          +++++             \n",
      "          ++++              \n",
      "                            \n",
      "Label: 7\n",
      "                            \n",
      "                            \n",
      "                            \n",
      "          +++++++           \n",
      "         +++++++++          \n",
      "        ++++++++++          \n",
      "       ++++++ ++++          \n",
      "       ++++   ++++          \n",
      "        ++    ++++          \n",
      "             +++++          \n",
      "            +++++           \n",
      "            ++++            \n",
      "           +++++            \n",
      "          +++++             \n",
      "          ++++              \n",
      "         +++++              \n",
      "        +++++               \n",
      "        +++++               \n",
      "        ++++                \n",
      "        +++++++++ +++++++++ \n",
      "        +++++++++++++++++++ \n",
      "        +++++++++++++++++++ \n",
      "         ++++++++++++       \n",
      "                            \n",
      "                            \n",
      "                            \n",
      "                            \n",
      "                            \n",
      "Label: 2\n",
      "                            \n",
      "                            \n",
      "                            \n",
      "                            \n",
      "                +++         \n",
      "                +++         \n",
      "                ++          \n",
      "               +++          \n",
      "               +++          \n",
      "               +++          \n",
      "              +++           \n",
      "              +++           \n",
      "              +++           \n",
      "             ++++           \n",
      "             +++            \n",
      "             +++            \n",
      "            +++             \n",
      "            +++             \n",
      "            +++             \n",
      "            +++             \n",
      "           ++++             \n",
      "           ++++             \n",
      "          ++++              \n",
      "          ++++              \n",
      "                            \n",
      "                            \n",
      "                            \n",
      "                            \n",
      "Label: 1\n"
     ]
    }
   ],
   "source": [
    "test_data = test['data']\n",
    "n = len(test_data)\n",
    "\n",
    "for k in range(0, 3):\n",
    "    for i in range(28):\n",
    "        for j in range(28):\n",
    "            print(' ' if test_data[k][28*i+j] == 0 else '+', end='')\n",
    "        print()\n",
    "\n",
    "    print('Label: ' + str(np.argmax(net(test_data)[k])))"
   ]
  },
  {
   "cell_type": "markdown",
   "metadata": {},
   "source": [
    "## Learning Curve\n",
    "Since we have a set of losses over our iterations, we can look at and analyze a learning curve."
   ]
  },
  {
   "cell_type": "code",
   "execution_count": 22,
   "metadata": {},
   "outputs": [
    {
     "data": {
      "image/png": "[encoded data removed]",
      "text/plain": [
       "<Figure size 432x288 with 1 Axes>"
      ]
     },
     "metadata": {
      "needs_background": "light"
     },
     "output_type": "display_data"
    }
   ],
   "source": [
    "import matplotlib.pyplot as plt\n",
    "\n",
    "plt.plot(loss)\n",
    "plt.show()"
   ]
  },
  {
   "cell_type": "code",
   "execution_count": null,
   "metadata": {},
   "outputs": [],
   "source": []
  }
 ],
 "metadata": {
  "kernelspec": {
   "display_name": "Python 3",
   "language": "python",
   "name": "python3"
  },
  "language_info": {
   "codemirror_mode": {
    "name": "ipython",
    "version": 3
   },
   "file_extension": ".py",
   "mimetype": "text/x-python",
   "name": "python",
   "nbconvert_exporter": "python",
   "pygments_lexer": "ipython3",
   "version": "3.9.0"
  }
 },
 "nbformat": 4,
 "nbformat_minor": 4
}
