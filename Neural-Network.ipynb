{
 "cells": [
  {
   "cell_type": "markdown",
   "metadata": {},
   "source": [
    "# Neural Network Demo"
   ]
  },
  {
   "cell_type": "markdown",
   "metadata": {},
   "source": [
    "## Loading Data"
   ]
  },
  {
   "cell_type": "markdown",
   "metadata": {},
   "source": [
    "We'll demo this Vanilla Neural Network on MNIST Data. First things first, we want to load our MNIST Data"
   ]
  },
  {
   "cell_type": "code",
   "execution_count": 1,
   "metadata": {},
   "outputs": [
    {
     "name": "stdout",
     "output_type": "stream",
     "text": [
      "                            \n",
      "                            \n",
      "                            \n",
      "                            \n",
      "                            \n",
      "            ++++++++++++    \n",
      "        ++++++++++++++++    \n",
      "       ++++++++++++++++     \n",
      "       +++++++++++          \n",
      "        +++++++ ++          \n",
      "         +++++              \n",
      "           ++++             \n",
      "           ++++             \n",
      "            ++++++          \n",
      "             ++++++         \n",
      "              ++++++        \n",
      "               +++++        \n",
      "                 ++++       \n",
      "              +++++++       \n",
      "            ++++++++        \n",
      "          +++++++++         \n",
      "        ++++++++++          \n",
      "      ++++++++++            \n",
      "    ++++++++++              \n",
      "    ++++++++                \n",
      "                            \n",
      "                            \n",
      "                            \n"
     ]
    }
   ],
   "source": [
    "from DataLoader import *\n",
    "\n",
    "# load up data\n",
    "loader = DataLoader()\n",
    "loader.load_trainval()\n",
    "loader.load_test()\n",
    "\n",
    "# retrieve loaded data\n",
    "train = loader.get_train()\n",
    "val = loader.get_val()\n",
    "test = loader.get_test()\n",
    "\n",
    "# test by printing first training image\n",
    "row1 = train['data'][0]\n",
    "for row in range(28):\n",
    "    for col in range(28):\n",
    "        print(' ' if row1[28*row+col] == 0 else '+', end='')\n",
    "    print('')"
   ]
  },
  {
   "cell_type": "markdown",
   "metadata": {},
   "source": [
    "## Building the Neural Network\n",
    "\n",
    "Now that we have our data, we can build a simple vanila neural network."
   ]
  },
  {
   "cell_type": "code",
   "execution_count": 2,
   "metadata": {},
   "outputs": [
    {
     "name": "stdout",
     "output_type": "stream",
     "text": [
      "Initializing weights... Done\n"
     ]
    }
   ],
   "source": [
    "from Net import *\n",
    "\n",
    "num_inputs = 784\n",
    "num_outputs = 10\n",
    "\n",
    "net = Net([num_inputs, 200, 100, 50, num_outputs])"
   ]
  },
  {
   "cell_type": "code",
   "execution_count": null,
   "metadata": {},
   "outputs": [],
   "source": []
  }
 ],
 "metadata": {
  "kernelspec": {
   "display_name": "Python 3",
   "language": "python",
   "name": "python3"
  },
  "language_info": {
   "codemirror_mode": {
    "name": "ipython",
    "version": 3
   },
   "file_extension": ".py",
   "mimetype": "text/x-python",
   "name": "python",
   "nbconvert_exporter": "python",
   "pygments_lexer": "ipython3",
   "version": "3.8.6"
  }
 },
 "nbformat": 4,
 "nbformat_minor": 4
}
