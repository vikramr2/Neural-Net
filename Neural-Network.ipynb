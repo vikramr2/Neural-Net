{
 "cells": [
  {
   "cell_type": "markdown",
   "metadata": {},
   "source": [
    "# Neural Network Demo"
   ]
  },
  {
   "cell_type": "markdown",
   "metadata": {},
   "source": [
    "## Loading Data"
   ]
  },
  {
   "cell_type": "markdown",
   "metadata": {},
   "source": [
    "We'll demo this Vanilla Neural Network on MNIST Data. First things first, we want to load our MNIST Data"
   ]
  },
  {
   "cell_type": "code",
   "execution_count": 1,
   "metadata": {},
   "outputs": [
    {
     "name": "stdout",
     "output_type": "stream",
     "text": [
      "                            \n",
      "                            \n",
      "                            \n",
      "                            \n",
      "                            \n",
      "            ++++++++++++    \n",
      "        ++++++++++++++++    \n",
      "       ++++++++++++++++     \n",
      "       +++++++++++          \n",
      "        +++++++ ++          \n",
      "         +++++              \n",
      "           ++++             \n",
      "           ++++             \n",
      "            ++++++          \n",
      "             ++++++         \n",
      "              ++++++        \n",
      "               +++++        \n",
      "                 ++++       \n",
      "              +++++++       \n",
      "            ++++++++        \n",
      "          +++++++++         \n",
      "        ++++++++++          \n",
      "      ++++++++++            \n",
      "    ++++++++++              \n",
      "    ++++++++                \n",
      "                            \n",
      "                            \n",
      "                            \n"
     ]
    }
   ],
   "source": [
    "from DataLoader import *\n",
    "\n",
    "# load up data\n",
    "loader = DataLoader()\n",
    "loader.load_trainval()\n",
    "loader.load_test()\n",
    "\n",
    "# retrieve loaded data\n",
    "train = loader.get_train()\n",
    "val = loader.get_val()\n",
    "test = loader.get_test()\n",
    "\n",
    "# test by printing first training image\n",
    "row1 = train['data'][0]\n",
    "for row in range(28):\n",
    "    for col in range(28):\n",
    "        print(' ' if row1[28*row+col] == 0 else '+', end='')\n",
    "    print('')"
   ]
  },
  {
   "cell_type": "markdown",
   "metadata": {},
   "source": [
    "## Building the Neural Network\n",
    "\n",
    "Now that we have our data, we can build a simple vanila neural network."
   ]
  },
  {
   "cell_type": "code",
   "execution_count": 2,
   "metadata": {},
   "outputs": [
    {
     "name": "stdout",
     "output_type": "stream",
     "text": [
      "Initializing weights... Done\n"
     ]
    }
   ],
   "source": [
    "from Net import *\n",
    "\n",
    "num_inputs = 784\n",
    "num_outputs = 10\n",
    "\n",
    "net = Net([num_inputs, 200, 100, 50, num_outputs])"
   ]
  },
  {
   "cell_type": "markdown",
   "metadata": {},
   "source": [
    "## Training the Neural Network on SGD\n",
    "\n",
    "We'll start of by demoing and testing SGD. We'll build a train function, applying the SGD optimizer. For now, we'll just use a batch size of 1."
   ]
  },
  {
   "cell_type": "code",
   "execution_count": 3,
   "metadata": {},
   "outputs": [],
   "source": [
    "from Optimizers import *\n",
    "\n",
    "def train_net(epochs, lr, decay, momentum, friction):\n",
    "    sgd = SGD(lr, decay, momentum, friction)\n",
    "    \n",
    "    for epoch in range(epochs):\n",
    "        print('Epoch ' + str(epoch) + '...')\n",
    "        \n",
    "        avg_loss = 0\n",
    "        for entry in range(100):\n",
    "            net(train['data'][entry])\n",
    "        \n",
    "            grad, upstreams = net.backward(train['label'][entry])\n",
    "            for n in range(len(net.layers) - 2, -1, -1):\n",
    "                if isinstance(net.layers[n], Linear):\n",
    "                    net.layers[n].update(sgd)\n",
    "                \n",
    "            avg_loss += net.xent(train['label'][entry])\n",
    "            sgd.advance()\n",
    "            \n",
    "        avg_loss /= len(train['data'])\n",
    "            \n",
    "        print('Loss for Epoch ' + str(epoch) + ': ' + str(avg_loss))"
   ]
  },
  {
   "cell_type": "code",
   "execution_count": 4,
   "metadata": {},
   "outputs": [
    {
     "data": {
      "text/plain": [
       "array([-0.81152078,  2.61786002, -0.19836733, -0.81152078,  0.10585269,\n",
       "       -0.14226775, -0.81152078,  0.61773008,  0.24527541, -0.81152078])"
      ]
     },
     "execution_count": 4,
     "metadata": {},
     "output_type": "execute_result"
    }
   ],
   "source": [
    "num_epoch = 10\n",
    "lr = 1e-3\n",
    "decay = 0.001\n",
    "momentum = 0.9\n",
    "friction = 0.9\n",
    "\n",
    "net(train['data'][0])"
   ]
  },
  {
   "cell_type": "code",
   "execution_count": null,
   "metadata": {},
   "outputs": [],
   "source": []
  },
  {
   "cell_type": "code",
   "execution_count": null,
   "metadata": {},
   "outputs": [],
   "source": []
  },
  {
   "cell_type": "code",
   "execution_count": null,
   "metadata": {},
   "outputs": [],
   "source": []
  }
 ],
 "metadata": {
  "kernelspec": {
   "display_name": "Python 3",
   "language": "python",
   "name": "python3"
  },
  "language_info": {
   "codemirror_mode": {
    "name": "ipython",
    "version": 3
   },
   "file_extension": ".py",
   "mimetype": "text/x-python",
   "name": "python",
   "nbconvert_exporter": "python",
   "pygments_lexer": "ipython3",
   "version": "3.8.6"
  }
 },
 "nbformat": 4,
 "nbformat_minor": 4
}
